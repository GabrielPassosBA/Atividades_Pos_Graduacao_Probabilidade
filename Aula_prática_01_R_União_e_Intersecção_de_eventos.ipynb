{
  "nbformat": 4,
  "nbformat_minor": 0,
  "metadata": {
    "colab": {
      "provenance": []
    },
    "kernelspec": {
      "name": "ir",
      "display_name": "R"
    },
    "language_info": {
      "name": "R"
    }
  },
  "cells": [
    {
      "cell_type": "markdown",
      "source": [
        "Instalando e carregando **Bibliotecas**\n"
      ],
      "metadata": {
        "id": "_rAmFMKw4Apc"
      }
    },
    {
      "cell_type": "code",
      "source": [
        "install.packages(\"tidydice\")\n",
        "#install.packages(\"dplyr\")"
      ],
      "metadata": {
        "id": "KPvk4wre4D_9",
        "colab": {
          "base_uri": "https://localhost:8080/"
        },
        "outputId": "0a3d3855-7d37-4026-bf34-b6ffb54d96cb"
      },
      "execution_count": null,
      "outputs": [
        {
          "output_type": "stream",
          "name": "stderr",
          "text": [
            "Installing package into ‘/usr/local/lib/R/site-library’\n",
            "(as ‘lib’ is unspecified)\n",
            "\n",
            "also installing the dependency ‘assertthat’\n",
            "\n",
            "\n"
          ]
        }
      ]
    },
    {
      "cell_type": "code",
      "execution_count": null,
      "metadata": {
        "id": "71vdWpVu31Aw",
        "colab": {
          "base_uri": "https://localhost:8080/"
        },
        "outputId": "78212afa-7faa-4e19-eee3-66062aac38bc"
      },
      "outputs": [
        {
          "output_type": "stream",
          "name": "stderr",
          "text": [
            "\n",
            "Attaching package: ‘dplyr’\n",
            "\n",
            "\n",
            "The following objects are masked from ‘package:stats’:\n",
            "\n",
            "    filter, lag\n",
            "\n",
            "\n",
            "The following objects are masked from ‘package:base’:\n",
            "\n",
            "    intersect, setdiff, setequal, union\n",
            "\n",
            "\n"
          ]
        }
      ],
      "source": [
        "library(tidydice)\n",
        "library(dplyr)"
      ]
    },
    {
      "cell_type": "markdown",
      "source": [
        "## Exemplos de espaço amostral com R"
      ],
      "metadata": {
        "id": "l_9z6h0o4NsR"
      }
    },
    {
      "cell_type": "code",
      "source": [
        "#Criando um dado e visualizando seus resultados\n",
        "#Times é igual o Número de vezes que joga o dado\n",
        "set.seed(123)\n",
        "tidydice::roll_dice(times = 3) %>%\n",
        "  plot_dice()"
      ],
      "metadata": {
        "colab": {
          "base_uri": "https://localhost:8080/",
          "height": 437
        },
        "id": "8WhzZAzq4V3C",
        "outputId": "803531e0-7d8c-434c-bbfa-19b8c4ebea2f"
      },
      "execution_count": null,
      "outputs": [
        {
          "output_type": "display_data",
          "data": {
            "text/plain": [
              "plot without title"
            ],
            "image/png": "[encoded data removed]"
          },
          "metadata": {
            "image/png": {
              "width": 420,
              "height": 420
            }
          }
        }
      ]
    },
    {
      "cell_type": "markdown",
      "source": [
        "## Exemplo da união e interseção\n",
        "\n",
        "Seja o Evento A e B, definidos a seguir:\n",
        "  - A: \"Aparecer Faces Pares do dado\": {2, 4, 6}\n",
        "  - B:  \"Aparecer Faces maiores 3\": {4,5,6}\n",
        "\n",
        "A **união** do evento A e B é dado por?\n",
        "\n"
      ],
      "metadata": {
        "id": "AJZZL3Q-4sI7"
      }
    },
    {
      "cell_type": "code",
      "source": [
        "#Criando os resultados do dado\n",
        "dado_resultado = data.frame(c(0,1,2,3,4,5,6))\n",
        "names(dado_resultado)=\"X1\"\n",
        "dado_resultado"
      ],
      "metadata": {
        "colab": {
          "base_uri": "https://localhost:8080/",
          "height": 352
        },
        "id": "MSaeN02N4y1k",
        "outputId": "41f5bfb6-94a1-4149-9a1d-3af12af217df"
      },
      "execution_count": null,
      "outputs": [
        {
          "output_type": "display_data",
          "data": {
            "text/html": [
              "<table class=\"dataframe\">\n",
              "<caption>A data.frame: 7 × 1</caption>\n",
              "<thead>\n",
              "\t<tr><th scope=col>X1</th></tr>\n",
              "\t<tr><th scope=col>&lt;dbl&gt;</th></tr>\n",
              "</thead>\n",
              "<tbody>\n",
              "\t<tr><td>0</td></tr>\n",
              "\t<tr><td>1</td></tr>\n",
              "\t<tr><td>2</td></tr>\n",
              "\t<tr><td>3</td></tr>\n",
              "\t<tr><td>4</td></tr>\n",
              "\t<tr><td>5</td></tr>\n",
              "\t<tr><td>6</td></tr>\n",
              "</tbody>\n",
              "</table>\n"
            ],
            "text/markdown": "\nA data.frame: 7 × 1\n\n| X1 &lt;dbl&gt; |\n|---|\n| 0 |\n| 1 |\n| 2 |\n| 3 |\n| 4 |\n| 5 |\n| 6 |\n\n",
            "text/latex": "A data.frame: 7 × 1\n\\begin{tabular}{l}\n X1\\\\\n <dbl>\\\\\n\\hline\n\t 0\\\\\n\t 1\\\\\n\t 2\\\\\n\t 3\\\\\n\t 4\\\\\n\t 5\\\\\n\t 6\\\\\n\\end{tabular}\n",
            "text/plain": [
              "  X1\n",
              "1 0 \n",
              "2 1 \n",
              "3 2 \n",
              "4 3 \n",
              "5 4 \n",
              "6 5 \n",
              "7 6 "
            ]
          },
          "metadata": {}
        }
      ]
    },
    {
      "cell_type": "code",
      "source": [
        "#Criando os eventos\n",
        "A=subset(dado_resultado,X1%%2==0)\n",
        "B=subset(dado_resultado,X1>3)"
      ],
      "metadata": {
        "id": "POjVyHqv4-Xc"
      },
      "execution_count": null,
      "outputs": []
    },
    {
      "cell_type": "code",
      "source": [
        "#Evento A\n",
        "A"
      ],
      "metadata": {
        "id": "-Vw7Me9P5IEJ",
        "colab": {
          "base_uri": "https://localhost:8080/",
          "height": 258
        },
        "outputId": "d4541cc9-1d12-42e7-e1dd-e4dc8a4bd72a"
      },
      "execution_count": null,
      "outputs": [
        {
          "output_type": "display_data",
          "data": {
            "text/html": [
              "<table class=\"dataframe\">\n",
              "<caption>A data.frame: 4 × 1</caption>\n",
              "<thead>\n",
              "\t<tr><th></th><th scope=col>X1</th></tr>\n",
              "\t<tr><th></th><th scope=col>&lt;dbl&gt;</th></tr>\n",
              "</thead>\n",
              "<tbody>\n",
              "\t<tr><th scope=row>1</th><td>0</td></tr>\n",
              "\t<tr><th scope=row>3</th><td>2</td></tr>\n",
              "\t<tr><th scope=row>5</th><td>4</td></tr>\n",
              "\t<tr><th scope=row>7</th><td>6</td></tr>\n",
              "</tbody>\n",
              "</table>\n"
            ],
            "text/markdown": "\nA data.frame: 4 × 1\n\n| <!--/--> | X1 &lt;dbl&gt; |\n|---|---|\n| 1 | 0 |\n| 3 | 2 |\n| 5 | 4 |\n| 7 | 6 |\n\n",
            "text/latex": "A data.frame: 4 × 1\n\\begin{tabular}{r|l}\n  & X1\\\\\n  & <dbl>\\\\\n\\hline\n\t1 & 0\\\\\n\t3 & 2\\\\\n\t5 & 4\\\\\n\t7 & 6\\\\\n\\end{tabular}\n",
            "text/plain": [
              "  X1\n",
              "1 0 \n",
              "3 2 \n",
              "5 4 \n",
              "7 6 "
            ]
          },
          "metadata": {}
        }
      ]
    },
    {
      "cell_type": "code",
      "source": [
        "#Evento B\n",
        "B"
      ],
      "metadata": {
        "id": "9kruluxR5La9",
        "colab": {
          "base_uri": "https://localhost:8080/",
          "height": 226
        },
        "outputId": "759ddc36-bd18-46c8-ac7d-a5eecce7b4ce"
      },
      "execution_count": null,
      "outputs": [
        {
          "output_type": "display_data",
          "data": {
            "text/html": [
              "<table class=\"dataframe\">\n",
              "<caption>A data.frame: 3 × 1</caption>\n",
              "<thead>\n",
              "\t<tr><th></th><th scope=col>X1</th></tr>\n",
              "\t<tr><th></th><th scope=col>&lt;dbl&gt;</th></tr>\n",
              "</thead>\n",
              "<tbody>\n",
              "\t<tr><th scope=row>5</th><td>4</td></tr>\n",
              "\t<tr><th scope=row>6</th><td>5</td></tr>\n",
              "\t<tr><th scope=row>7</th><td>6</td></tr>\n",
              "</tbody>\n",
              "</table>\n"
            ],
            "text/markdown": "\nA data.frame: 3 × 1\n\n| <!--/--> | X1 &lt;dbl&gt; |\n|---|---|\n| 5 | 4 |\n| 6 | 5 |\n| 7 | 6 |\n\n",
            "text/latex": "A data.frame: 3 × 1\n\\begin{tabular}{r|l}\n  & X1\\\\\n  & <dbl>\\\\\n\\hline\n\t5 & 4\\\\\n\t6 & 5\\\\\n\t7 & 6\\\\\n\\end{tabular}\n",
            "text/plain": [
              "  X1\n",
              "5 4 \n",
              "6 5 \n",
              "7 6 "
            ]
          },
          "metadata": {}
        }
      ]
    },
    {
      "cell_type": "markdown",
      "source": [
        "#União dos conjuntos A e B\n",
        "\n"
      ],
      "metadata": {
        "id": "RpOZuNCK5Vs2"
      }
    },
    {
      "cell_type": "code",
      "source": [
        "uniao=union(A,B)\n",
        "uniao"
      ],
      "metadata": {
        "colab": {
          "base_uri": "https://localhost:8080/",
          "height": 289
        },
        "id": "zsU1I3L95PBl",
        "outputId": "d77b7548-11b4-42f8-bd04-fa4a1291a596"
      },
      "execution_count": null,
      "outputs": [
        {
          "output_type": "display_data",
          "data": {
            "text/html": [
              "<table class=\"dataframe\">\n",
              "<caption>A data.frame: 5 × 1</caption>\n",
              "<thead>\n",
              "\t<tr><th scope=col>X1</th></tr>\n",
              "\t<tr><th scope=col>&lt;dbl&gt;</th></tr>\n",
              "</thead>\n",
              "<tbody>\n",
              "\t<tr><td>0</td></tr>\n",
              "\t<tr><td>2</td></tr>\n",
              "\t<tr><td>4</td></tr>\n",
              "\t<tr><td>6</td></tr>\n",
              "\t<tr><td>5</td></tr>\n",
              "</tbody>\n",
              "</table>\n"
            ],
            "text/markdown": "\nA data.frame: 5 × 1\n\n| X1 &lt;dbl&gt; |\n|---|\n| 0 |\n| 2 |\n| 4 |\n| 6 |\n| 5 |\n\n",
            "text/latex": "A data.frame: 5 × 1\n\\begin{tabular}{l}\n X1\\\\\n <dbl>\\\\\n\\hline\n\t 0\\\\\n\t 2\\\\\n\t 4\\\\\n\t 6\\\\\n\t 5\\\\\n\\end{tabular}\n",
            "text/plain": [
              "  X1\n",
              "1 0 \n",
              "2 2 \n",
              "3 4 \n",
              "4 6 \n",
              "5 5 "
            ]
          },
          "metadata": {}
        }
      ]
    },
    {
      "cell_type": "markdown",
      "source": [
        "# Interseção dos conjuntos A e B\n"
      ],
      "metadata": {
        "id": "yBnBhK8s5gbJ"
      }
    },
    {
      "cell_type": "code",
      "source": [
        "intersecao=intersect(A,B)\n",
        "intersecao"
      ],
      "metadata": {
        "colab": {
          "base_uri": "https://localhost:8080/",
          "height": 195
        },
        "id": "Qf_XHXe25dTA",
        "outputId": "90c918da-fbe3-4e81-c0d2-ef5b3e980dd5"
      },
      "execution_count": null,
      "outputs": [
        {
          "output_type": "display_data",
          "data": {
            "text/html": [
              "<table class=\"dataframe\">\n",
              "<caption>A data.frame: 2 × 1</caption>\n",
              "<thead>\n",
              "\t<tr><th scope=col>X1</th></tr>\n",
              "\t<tr><th scope=col>&lt;dbl&gt;</th></tr>\n",
              "</thead>\n",
              "<tbody>\n",
              "\t<tr><td>4</td></tr>\n",
              "\t<tr><td>6</td></tr>\n",
              "</tbody>\n",
              "</table>\n"
            ],
            "text/markdown": "\nA data.frame: 2 × 1\n\n| X1 &lt;dbl&gt; |\n|---|\n| 4 |\n| 6 |\n\n",
            "text/latex": "A data.frame: 2 × 1\n\\begin{tabular}{l}\n X1\\\\\n <dbl>\\\\\n\\hline\n\t 4\\\\\n\t 6\\\\\n\\end{tabular}\n",
            "text/plain": [
              "  X1\n",
              "1 4 \n",
              "2 6 "
            ]
          },
          "metadata": {}
        }
      ]
    },
    {
      "cell_type": "markdown",
      "source": [
        "# Criando uma moeda e visualizando os resultados"
      ],
      "metadata": {
        "id": "zBj33Sde5oIq"
      }
    },
    {
      "cell_type": "code",
      "source": [
        "set.seed(123)\n",
        "flip_coin(times = 3) %>%\n",
        "  plot_coin()"
      ],
      "metadata": {
        "colab": {
          "base_uri": "https://localhost:8080/",
          "height": 437
        },
        "id": "lIUTLvgK5m0Z",
        "outputId": "84aa285d-25cb-4130-8bdd-625e12da700f"
      },
      "execution_count": null,
      "outputs": [
        {
          "output_type": "display_data",
          "data": {
            "text/plain": [
              "plot without title"
            ],
            "image/png": "[encoded data removed]"
          },
          "metadata": {
            "image/png": {
              "width": 420,
              "height": 420
            }
          }
        }
      ]
    },
    {
      "cell_type": "markdown",
      "source": [
        "# Probabilidade da união\n"
      ],
      "metadata": {
        "id": "0ZlYv5Zt5yxd"
      }
    },
    {
      "cell_type": "markdown",
      "source": [
        "Baseado em dados históricos da empresa, o cliente A tem propensão de compra de 30%, já o cliente B possui 28% de propensão a comprar este produto. Ambos juntos tem a propensão de compra de 24%. Qual a probabilidade de que o mesmo seja comprado por pelo menos um dos clientes?"
      ],
      "metadata": {
        "id": "uBaKT2rX53PS"
      }
    },
    {
      "cell_type": "code",
      "source": [
        "PA=0.30\n",
        "PB=0.28\n",
        "PAinterB=0.24\n",
        "PAuniaoB=PA+PB-PAinterB\n",
        "PAuniaoB"
      ],
      "metadata": {
        "colab": {
          "base_uri": "https://localhost:8080/",
          "height": 34
        },
        "id": "wWADHQ0a5wUG",
        "outputId": "0bf6503a-de36-4580-9e1e-e355a7560e1a"
      },
      "execution_count": null,
      "outputs": [
        {
          "output_type": "display_data",
          "data": {
            "text/html": [
              "0.34"
            ],
            "text/markdown": "0.34",
            "text/latex": "0.34",
            "text/plain": [
              "[1] 0.34"
            ]
          },
          "metadata": {}
        }
      ]
    }
  ]
}