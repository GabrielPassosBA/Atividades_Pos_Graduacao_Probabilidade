{
  "nbformat": 4,
  "nbformat_minor": 0,
  "metadata": {
    "colab": {
      "provenance": []
    },
    "kernelspec": {
      "name": "ir",
      "display_name": "R"
    },
    "language_info": {
      "name": "R"
    }
  },
  "cells": [
    {
      "cell_type": "markdown",
      "source": [
        "# Distribuição Bernoulli\n",
        "\n",
        "Imaginemos que X=\"O aluno acertar uma questão na prova\", sendo que a prova só tem uma questão, contendo certo ou errado, portanto podemos entender que o aluno tem uma resposta favorável em duas possíveis, 50% de chance de acertar a questão."
      ],
      "metadata": {
        "id": "nNE6sgdx9ogJ"
      }
    },
    {
      "cell_type": "code",
      "execution_count": null,
      "metadata": {
        "id": "c7l5m4uU9f7T",
        "colab": {
          "base_uri": "https://localhost:8080/",
          "height": 34
        },
        "outputId": "1f57883b-0431-41ac-bf61-12ced0719622"
      },
      "outputs": [
        {
          "output_type": "display_data",
          "data": {
            "text/html": [
              "0.5"
            ],
            "text/markdown": "0.5",
            "text/latex": "0.5",
            "text/plain": [
              "[1] 0.5"
            ]
          },
          "metadata": {}
        }
      ],
      "source": [
        "#Fazendo pela distribuição acumulada:\n",
        "pbinom(1,size=1,p=0.5)-pbinom(0,size=1,p=0.5)"
      ]
    },
    {
      "cell_type": "code",
      "source": [
        "#Fazendo pela função massa:\n",
        "dbinom(1,size=1,p=0.5)"
      ],
      "metadata": {
        "id": "xWMJXom493Re",
        "colab": {
          "base_uri": "https://localhost:8080/",
          "height": 34
        },
        "outputId": "3740d5dc-faca-4c05-b6c2-b2501f009372"
      },
      "execution_count": null,
      "outputs": [
        {
          "output_type": "display_data",
          "data": {
            "text/html": [
              "0.5"
            ],
            "text/markdown": "0.5",
            "text/latex": "0.5",
            "text/plain": [
              "[1] 0.5"
            ]
          },
          "metadata": {}
        }
      ]
    },
    {
      "cell_type": "code",
      "source": [
        "?dbinom"
      ],
      "metadata": {
        "id": "eOJMGS974pjY"
      },
      "execution_count": null,
      "outputs": []
    },
    {
      "cell_type": "markdown",
      "source": [
        "# Distribuição Binomial\n",
        "\n",
        "Imaginemos que X=\"O aluno acertar uma questão na prova\", sendo que a prova só tem três questões, contendo três alternativas, portanto podemos entender que o aluno tem uma resposta favorável em  três possíveis."
      ],
      "metadata": {
        "id": "nk6INFmc-SZx"
      }
    },
    {
      "cell_type": "code",
      "source": [
        "#Fazendo pela distribuição acumulada:\n",
        "pbinom(1,size=3,p=1/3)-pbinom(0,size=3,p=1/3)"
      ],
      "metadata": {
        "id": "Z6xhBDOh-clp",
        "colab": {
          "base_uri": "https://localhost:8080/",
          "height": 34
        },
        "outputId": "06de6189-7bbd-40e2-fc13-a9507cbc7397"
      },
      "execution_count": null,
      "outputs": [
        {
          "output_type": "display_data",
          "data": {
            "text/html": [
              "0.444444444444444"
            ],
            "text/markdown": "0.444444444444444",
            "text/latex": "0.444444444444444",
            "text/plain": [
              "[1] 0.4444444"
            ]
          },
          "metadata": {}
        }
      ]
    },
    {
      "cell_type": "code",
      "source": [
        "#Fazendo pela função massa:\n",
        "dbinom(1,size=3,p=1/3)"
      ],
      "metadata": {
        "id": "LwYvH4Qp-gDi",
        "colab": {
          "base_uri": "https://localhost:8080/",
          "height": 34
        },
        "outputId": "19dcd251-f2a3-44ed-b743-3664d12faeb6"
      },
      "execution_count": null,
      "outputs": [
        {
          "output_type": "display_data",
          "data": {
            "text/html": [
              "0.444444444444444"
            ],
            "text/markdown": "0.444444444444444",
            "text/latex": "0.444444444444444",
            "text/plain": [
              "[1] 0.4444444"
            ]
          },
          "metadata": {}
        }
      ]
    },
    {
      "cell_type": "markdown",
      "source": [
        "Considere um exame de múltipla escolha com 20 questões, 5 alternativas pra cada pergunta. Caso o aluno não estude e \"chute\" todas as respostas, qual a probabilidade de acertar 30% da prova? E qual seu número esperado de acertos?\n",
        "\n",
        "*   a) Qual a probabilidade de acertar 30% da prova?\n",
        "*   b) Qual seu número esperado de acertos?\n",
        "\n",
        "\n",
        "\n"
      ],
      "metadata": {
        "id": "EHlKMs3I-o3z"
      }
    },
    {
      "cell_type": "markdown",
      "source": [
        "a)\n",
        "x ~ binomial (20,1/5)\n"
      ],
      "metadata": {
        "id": "tgm41Ja8_Lcv"
      }
    },
    {
      "cell_type": "code",
      "source": [
        "#Pela distribuição acumulada:\n",
        "n=20\n",
        "p=0.2\n",
        "pbinom(6,size=n,p)-pbinom(5,size=n,p)"
      ],
      "metadata": {
        "id": "Jky6K40O-lrP",
        "colab": {
          "base_uri": "https://localhost:8080/",
          "height": 34
        },
        "outputId": "dc7d42a7-a1b2-42e5-b7b0-90448edab119"
      },
      "execution_count": null,
      "outputs": [
        {
          "output_type": "display_data",
          "data": {
            "text/html": [
              "0.10909970097305"
            ],
            "text/markdown": "0.10909970097305",
            "text/latex": "0.10909970097305",
            "text/plain": [
              "[1] 0.1090997"
            ]
          },
          "metadata": {}
        }
      ]
    },
    {
      "cell_type": "code",
      "source": [
        "#Pela função massa:\n",
        "n=20\n",
        "p=0.2\n",
        "dbinom(6,size=n,p)"
      ],
      "metadata": {
        "id": "8xqO6frD_Tfi",
        "colab": {
          "base_uri": "https://localhost:8080/",
          "height": 34
        },
        "outputId": "26f3c4c1-0c5c-467e-cafc-0510b0a8e5bd"
      },
      "execution_count": null,
      "outputs": [
        {
          "output_type": "display_data",
          "data": {
            "text/html": [
              "0.10909970097305"
            ],
            "text/markdown": "0.10909970097305",
            "text/latex": "0.10909970097305",
            "text/plain": [
              "[1] 0.1090997"
            ]
          },
          "metadata": {}
        }
      ]
    },
    {
      "cell_type": "markdown",
      "source": [
        "b) Qual seu número esperado de acertos?"
      ],
      "metadata": {
        "id": "5JDEpG4U_Zez"
      }
    },
    {
      "cell_type": "code",
      "source": [
        "valor_esperado=n*p\n",
        "valor_esperado"
      ],
      "metadata": {
        "id": "spHyrnus_Xxu"
      },
      "execution_count": null,
      "outputs": []
    },
    {
      "cell_type": "code",
      "source": [
        "#Pela função massa:\n",
        "n=20\n",
        "p=0.2\n",
        "dbinom(4,size=n,p)"
      ],
      "metadata": {
        "colab": {
          "base_uri": "https://localhost:8080/",
          "height": 34
        },
        "id": "za5Ai_2TjgcY",
        "outputId": "3cec9914-c6ea-4590-d937-cbd066a3885e"
      },
      "execution_count": null,
      "outputs": [
        {
          "output_type": "display_data",
          "data": {
            "text/html": [
              "0.218199401946101"
            ],
            "text/markdown": "0.218199401946101",
            "text/latex": "0.218199401946101",
            "text/plain": [
              "[1] 0.2181994"
            ]
          },
          "metadata": {}
        }
      ]
    },
    {
      "cell_type": "markdown",
      "source": [
        "Poisson\n",
        "\n",
        "O número de acidentes que acontecem na ponte Rio Niterói segue uma distribuição de Poisson com média 3 por hora.\n",
        "\n",
        "\n",
        "*   a) Calcule a probabilidade de 2 acidentes em uma hora.\n",
        "\n",
        "*   b) Calcule a probabilidade de pelo menos 2 acidentes em 2 horas.\n",
        "\n",
        "\n",
        "\n"
      ],
      "metadata": {
        "id": "BkHkme-6_ilz"
      }
    },
    {
      "cell_type": "markdown",
      "source": [
        "Como o a taxa solicitada está em horas, manteremos o nosso lâmbida\n"
      ],
      "metadata": {
        "id": "BgYDLesO_vmW"
      }
    },
    {
      "cell_type": "code",
      "source": [
        "lambda=3\n",
        "lambda\n"
      ],
      "metadata": {
        "id": "l5rMSef7_g-5",
        "colab": {
          "base_uri": "https://localhost:8080/",
          "height": 34
        },
        "outputId": "3897eaba-3d86-4191-a857-e8a6044e9aeb"
      },
      "execution_count": null,
      "outputs": [
        {
          "output_type": "display_data",
          "data": {
            "text/html": [
              "3"
            ],
            "text/markdown": "3",
            "text/latex": "3",
            "text/plain": [
              "[1] 3"
            ]
          },
          "metadata": {}
        }
      ]
    },
    {
      "cell_type": "code",
      "source": [
        "#Utilizando a função massa de probabilidade aplicando para X=2: P(X=2)\n",
        "dpois(2,lambda)"
      ],
      "metadata": {
        "id": "NkCgrRrK_1oO",
        "colab": {
          "base_uri": "https://localhost:8080/",
          "height": 34
        },
        "outputId": "54277d9a-a0b8-4d3c-ba34-ebdd9de0f1ca"
      },
      "execution_count": null,
      "outputs": [
        {
          "output_type": "display_data",
          "data": {
            "text/html": [
              "0.224041807655388"
            ],
            "text/markdown": "0.224041807655388",
            "text/latex": "0.224041807655388",
            "text/plain": [
              "[1] 0.2240418"
            ]
          },
          "metadata": {}
        }
      ]
    },
    {
      "cell_type": "code",
      "source": [
        "#Utilizando a função de distribuição acumulada P(X<=2)-P(X<=1)= P(X=2)\n",
        "ppois(2,lambda)-ppois(1,lambda)"
      ],
      "metadata": {
        "id": "yHa2WGFB_6b3",
        "colab": {
          "base_uri": "https://localhost:8080/",
          "height": 34
        },
        "outputId": "a8cec1a4-8f36-42bf-c489-1ee53de88f9b"
      },
      "execution_count": null,
      "outputs": [
        {
          "output_type": "display_data",
          "data": {
            "text/html": [
              "0.224041807655388"
            ],
            "text/markdown": "0.224041807655388",
            "text/latex": "0.224041807655388",
            "text/plain": [
              "[1] 0.2240418"
            ]
          },
          "metadata": {}
        }
      ]
    },
    {
      "cell_type": "code",
      "source": [
        "#Na \"mão\"\n",
        "(3^2)*exp(-3)/factorial(2)"
      ],
      "metadata": {
        "id": "4-895lLK_-_K",
        "colab": {
          "base_uri": "https://localhost:8080/",
          "height": 34
        },
        "outputId": "3aa742bf-d627-492b-83e1-b980ecd41cef"
      },
      "execution_count": null,
      "outputs": [
        {
          "output_type": "display_data",
          "data": {
            "text/html": [
              "0.224041807655388"
            ],
            "text/markdown": "0.224041807655388",
            "text/latex": "0.224041807655388",
            "text/plain": [
              "[1] 0.2240418"
            ]
          },
          "metadata": {}
        }
      ]
    },
    {
      "cell_type": "markdown",
      "source": [
        "b)\n",
        "\n",
        "Como o a taxa solicitada está em 2horas, ajustaremos o lâmbida proporcionalmente para 6."
      ],
      "metadata": {
        "id": "nogI-WZiAEqN"
      }
    },
    {
      "cell_type": "code",
      "source": [
        "lambda=6\n",
        "lambda"
      ],
      "metadata": {
        "id": "3HweNE3KACst",
        "colab": {
          "base_uri": "https://localhost:8080/",
          "height": 34
        },
        "outputId": "82b03749-9ad4-45ed-93fb-b0191cbfd881"
      },
      "execution_count": null,
      "outputs": [
        {
          "output_type": "display_data",
          "data": {
            "text/html": [
              "6"
            ],
            "text/markdown": "6",
            "text/latex": "6",
            "text/plain": [
              "[1] 6"
            ]
          },
          "metadata": {}
        }
      ]
    },
    {
      "cell_type": "markdown",
      "source": [
        "Calculando o complementar da probabilidade solicitada ou seja:\n",
        "1 - P(X<=1) = 1-P(X<2) = P(X>=2)\n"
      ],
      "metadata": {
        "id": "fTRD_KgWALd1"
      }
    },
    {
      "cell_type": "code",
      "source": [
        "1 - ppois(1,lambda)"
      ],
      "metadata": {
        "id": "AJDb-YEZAZW7",
        "colab": {
          "base_uri": "https://localhost:8080/",
          "height": 34
        },
        "outputId": "eb7c9a16-3b7a-42cd-d9c6-cb3cfe300c37"
      },
      "execution_count": null,
      "outputs": [
        {
          "output_type": "display_data",
          "data": {
            "text/html": [
              "0.982648734763335"
            ],
            "text/markdown": "0.982648734763335",
            "text/latex": "0.982648734763335",
            "text/plain": [
              "[1] 0.9826487"
            ]
          },
          "metadata": {}
        }
      ]
    },
    {
      "cell_type": "code",
      "source": [
        "#Na \"mão\"\n",
        "1 - (exp(-6)+6*exp(-6))"
      ],
      "metadata": {
        "id": "IG6yl4GJAbgn",
        "colab": {
          "base_uri": "https://localhost:8080/",
          "height": 34
        },
        "outputId": "406444f1-3ac1-40b1-aca5-27580396bc1e"
      },
      "execution_count": null,
      "outputs": [
        {
          "output_type": "display_data",
          "data": {
            "text/html": [
              "0.982648734763335"
            ],
            "text/markdown": "0.982648734763335",
            "text/latex": "0.982648734763335",
            "text/plain": [
              "[1] 0.9826487"
            ]
          },
          "metadata": {}
        }
      ]
    }
  ]
}