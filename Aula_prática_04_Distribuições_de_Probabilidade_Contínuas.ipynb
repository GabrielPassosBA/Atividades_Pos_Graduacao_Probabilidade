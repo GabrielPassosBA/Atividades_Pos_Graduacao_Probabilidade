{
  "nbformat": 4,
  "nbformat_minor": 0,
  "metadata": {
    "colab": {
      "provenance": []
    },
    "kernelspec": {
      "name": "ir",
      "display_name": "R"
    },
    "language_info": {
      "name": "R"
    }
  },
  "cells": [
    {
      "cell_type": "markdown",
      "source": [
        "# Distribuição Exponencial\n",
        "\n",
        "O tempo de espera em uma fila segue uma distribuição exponencial. Se o tempo médio esperado pelo cliente é 10 minutos para ser atendido qual a probabilidade:"
      ],
      "metadata": {
        "id": "-ZjmHWNsBF10"
      }
    },
    {
      "cell_type": "markdown",
      "source": [
        "a) De que um cliente demore menos do que 12 minutos para ele ser atendido."
      ],
      "metadata": {
        "id": "qzdMabW_BOB7"
      }
    },
    {
      "cell_type": "code",
      "execution_count": null,
      "metadata": {
        "id": "tl80FRoiA8LN",
        "colab": {
          "base_uri": "https://localhost:8080/",
          "height": 34
        },
        "outputId": "dc8af512-4e4b-438f-db25-88532da2e98b"
      },
      "outputs": [
        {
          "output_type": "display_data",
          "data": {
            "text/html": [
              "0.698805788087798"
            ],
            "text/markdown": "0.698805788087798",
            "text/latex": "0.698805788087798",
            "text/plain": [
              "[1] 0.6988058"
            ]
          },
          "metadata": {}
        }
      ],
      "source": [
        "#Utilizando a função de distribuição acumulada P(X<=12)\n",
        "pexp(12,rate=1/10)"
      ]
    },
    {
      "cell_type": "code",
      "source": [
        "#Exponencial na \"Mão\"\n",
        "1-exp(-1.2)"
      ],
      "metadata": {
        "id": "u08Rt_3yBTmv",
        "colab": {
          "base_uri": "https://localhost:8080/",
          "height": 34
        },
        "outputId": "77fbfa47-d6a2-41f6-e450-7599eacd14ce"
      },
      "execution_count": null,
      "outputs": [
        {
          "output_type": "display_data",
          "data": {
            "text/html": [
              "0.698805788087798"
            ],
            "text/markdown": "0.698805788087798",
            "text/latex": "0.698805788087798",
            "text/plain": [
              "[1] 0.6988058"
            ]
          },
          "metadata": {}
        }
      ]
    },
    {
      "cell_type": "markdown",
      "source": [
        "b) De que um cliente demore entre 7 e 12 minutos para ser atendido."
      ],
      "metadata": {
        "id": "TDTuuInRBaA8"
      }
    },
    {
      "cell_type": "code",
      "source": [
        "#Utilizando a função de distribuição acumulada P(X<=12)-P(X<=7)\n",
        "pexp(12,rate=1/10) - pexp(7,rate=1/10)"
      ],
      "metadata": {
        "id": "rTs-mzK_Bc0R",
        "colab": {
          "base_uri": "https://localhost:8080/",
          "height": 34
        },
        "outputId": "b9ff4884-4309-4720-d58a-0faaef9085fa"
      },
      "execution_count": null,
      "outputs": [
        {
          "output_type": "display_data",
          "data": {
            "text/html": [
              "0.195391091879207"
            ],
            "text/markdown": "0.195391091879207",
            "text/latex": "0.195391091879207",
            "text/plain": [
              "[1] 0.1953911"
            ]
          },
          "metadata": {}
        }
      ]
    },
    {
      "cell_type": "code",
      "source": [
        "#Exponencial na \"Mão\"\n",
        "1 - exp(-1.2) - (1- exp(-0.7))\n",
        "#ou\n",
        "exp(-0.7) - exp(-1.2)"
      ],
      "metadata": {
        "id": "rkOEDlroBY6b",
        "colab": {
          "base_uri": "https://localhost:8080/",
          "height": 52
        },
        "outputId": "4680e8e3-68d3-420e-c224-3ae9e4521269"
      },
      "execution_count": null,
      "outputs": [
        {
          "output_type": "display_data",
          "data": {
            "text/html": [
              "0.195391091879207"
            ],
            "text/markdown": "0.195391091879207",
            "text/latex": "0.195391091879207",
            "text/plain": [
              "[1] 0.1953911"
            ]
          },
          "metadata": {}
        },
        {
          "output_type": "display_data",
          "data": {
            "text/html": [
              "0.195391091879207"
            ],
            "text/markdown": "0.195391091879207",
            "text/latex": "0.195391091879207",
            "text/plain": [
              "[1] 0.1953911"
            ]
          },
          "metadata": {}
        }
      ]
    },
    {
      "cell_type": "markdown",
      "source": [
        "# Distribuição Normal\n",
        "\n",
        "Considere que o peso dos alunos segue uma normal com média igual a 70kg e desvio padrão igual a 5 kg. Calcule a probabilidade de um aluno possuir um peso entre 60 e 80 kg."
      ],
      "metadata": {
        "id": "rEFwC73ZBszT"
      }
    },
    {
      "cell_type": "code",
      "source": [
        "#Utilizando a função de distribuição acumulada P(x<=80) - P(x<=60)\n",
        "pnorm(80,mean = 70, sd = 5) - pnorm(60,mean = 70, sd = 5)"
      ],
      "metadata": {
        "id": "5w3O08YwBuFE",
        "colab": {
          "base_uri": "https://localhost:8080/",
          "height": 34
        },
        "outputId": "137fd7b0-b89a-401c-afb0-2d2259c24d6c"
      },
      "execution_count": null,
      "outputs": [
        {
          "output_type": "display_data",
          "data": {
            "text/html": [
              "0.954499736103642"
            ],
            "text/markdown": "0.954499736103642",
            "text/latex": "0.954499736103642",
            "text/plain": [
              "[1] 0.9544997"
            ]
          },
          "metadata": {}
        }
      ]
    },
    {
      "cell_type": "code",
      "source": [
        "#Normal na \"Mão\"\n",
        "limite_inf=(60-70)/5\n",
        "limite_sup=(80-70)/5\n",
        "limite_inf\n",
        "limite_sup"
      ],
      "metadata": {
        "id": "pVM_RQrgBpj7",
        "colab": {
          "base_uri": "https://localhost:8080/",
          "height": 52
        },
        "outputId": "0fddcd7b-178d-442b-b871-2386b3db4443"
      },
      "execution_count": null,
      "outputs": [
        {
          "output_type": "display_data",
          "data": {
            "text/html": [
              "-2"
            ],
            "text/markdown": "-2",
            "text/latex": "-2",
            "text/plain": [
              "[1] -2"
            ]
          },
          "metadata": {}
        },
        {
          "output_type": "display_data",
          "data": {
            "text/html": [
              "2"
            ],
            "text/markdown": "2",
            "text/latex": "2",
            "text/plain": [
              "[1] 2"
            ]
          },
          "metadata": {}
        }
      ]
    },
    {
      "cell_type": "code",
      "source": [
        "#Utilizando a função de distribuição acumulada da normal padrão\n",
        "#P(z<=2) - P(z<=-2)\n",
        "pnorm(limite_sup) - pnorm(limite_inf)"
      ],
      "metadata": {
        "id": "jerkZDkcB4qa"
      },
      "execution_count": null,
      "outputs": []
    },
    {
      "cell_type": "markdown",
      "source": [
        "Suponha que o valor das causas de ações (X) de um tribunal de justiça,\n",
        "seja normalmente distribuído com média 20 (salários mínimos) e\n",
        "variância 25 (Salários mínimos ao quadrado). Além disso, então a probabilidade de que uma causa seja maior que 26,25 salários mínimos é de?"
      ],
      "metadata": {
        "id": "P9RCMJlEB-Qg"
      }
    },
    {
      "cell_type": "code",
      "source": [
        "#Utilizando a função de distribuição acumulada 1 - P(x<=26,25)\n",
        "1-pnorm(26.25,mean = 20, sd = 5)"
      ],
      "metadata": {
        "id": "hFYpoIMVB8Vr",
        "colab": {
          "base_uri": "https://localhost:8080/",
          "height": 34
        },
        "outputId": "e143d96c-b178-4c18-b3cf-560e8082a79c"
      },
      "execution_count": null,
      "outputs": [
        {
          "output_type": "display_data",
          "data": {
            "text/html": [
              "0.105649773666855"
            ],
            "text/markdown": "0.105649773666855",
            "text/latex": "0.105649773666855",
            "text/plain": [
              "[1] 0.1056498"
            ]
          },
          "metadata": {}
        }
      ]
    },
    {
      "cell_type": "code",
      "source": [
        "#Utilizando lower tail=F\n",
        "pnorm(26.25,mean = 20, sd = 5,lower.tail = F)"
      ],
      "metadata": {
        "id": "E1cyMVD9CD5C"
      },
      "execution_count": null,
      "outputs": []
    },
    {
      "cell_type": "code",
      "source": [
        "#Normal na \"Mão\"\n",
        "z=(26.25-20)/5"
      ],
      "metadata": {
        "id": "nnLztwj5CJzT"
      },
      "execution_count": null,
      "outputs": []
    },
    {
      "cell_type": "code",
      "source": [
        "#Utilizando a função de distribuição acumulada da normal padrão\n",
        "#1 - P(z<=1.25)\n",
        "1-pnorm(z)"
      ],
      "metadata": {
        "id": "xyOPUazSCM-Y"
      },
      "execution_count": null,
      "outputs": []
    }
  ]
}