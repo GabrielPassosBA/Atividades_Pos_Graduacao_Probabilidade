{
  "nbformat": 4,
  "nbformat_minor": 0,
  "metadata": {
    "colab": {
      "provenance": []
    },
    "kernelspec": {
      "name": "ir",
      "display_name": "R"
    },
    "language_info": {
      "name": "R"
    }
  },
  "cells": [
    {
      "cell_type": "markdown",
      "source": [
        "# Teorema da probabilidade total"
      ],
      "metadata": {
        "id": "YZDiE7q262qp"
      }
    },
    {
      "cell_type": "markdown",
      "source": [
        "Em uma empresa de tecnologia, existe um grupo de trabalhadores, apenas 10% mulheres. Dentre as mulheres, 50% moram longe, enquanto, dentre os homens, 15% moram longe. Relativamente a empresa toda, qual é o percentual de empregados que moram longe?\n"
      ],
      "metadata": {
        "id": "ljoyF-DA686Y"
      }
    },
    {
      "cell_type": "code",
      "execution_count": null,
      "metadata": {
        "id": "HC-cI7Ji6N7h",
        "colab": {
          "base_uri": "https://localhost:8080/",
          "height": 34
        },
        "outputId": "54ea8f63-45d7-4864-cabb-c120482923d4"
      },
      "outputs": [
        {
          "output_type": "display_data",
          "data": {
            "text/html": [
              "0.185"
            ],
            "text/markdown": "0.185",
            "text/latex": "0.185",
            "text/plain": [
              "[1] 0.185"
            ]
          },
          "metadata": {}
        }
      ],
      "source": [
        "#Primeira maneira (Utilizando a fórmula tradicional)\n",
        "\n",
        "PA=0.1\n",
        "PAC=0.9\n",
        "#----\n",
        "PBdadoA=0.5\n",
        "PBCdadoA=0.5\n",
        "#----\n",
        "PBdadoAC=0.15\n",
        "PBCdadoAC=0.85\n",
        "\n",
        "#Queremos saber PB\n",
        "PB=PA*PBdadoA+PAC*PBdadoAC\n",
        "PB"
      ]
    },
    {
      "cell_type": "code",
      "source": [
        "#Segunda maneira (Utilizando o diagrama de árvores)\n",
        "PAinterB=0.1*0.5\n",
        "PACinterB=0.9*0.15\n",
        "PB=PAinterB+PACinterB\n",
        "PB"
      ],
      "metadata": {
        "id": "KIRnWhMv7Csf",
        "colab": {
          "base_uri": "https://localhost:8080/",
          "height": 34
        },
        "outputId": "ec39e6d0-c18c-4826-9dcb-1c66b33fbb14"
      },
      "execution_count": null,
      "outputs": [
        {
          "output_type": "display_data",
          "data": {
            "text/html": [
              "0.185"
            ],
            "text/markdown": "0.185",
            "text/latex": "0.185",
            "text/plain": [
              "[1] 0.185"
            ]
          },
          "metadata": {}
        }
      ]
    },
    {
      "cell_type": "markdown",
      "source": [
        "# Teorema de Bayes"
      ],
      "metadata": {
        "id": "FGMb2D-u8E-D"
      }
    },
    {
      "cell_type": "markdown",
      "source": [
        "\n",
        "Em certa empresa, 40% dos homens e 20% das mulheres falam inglês fluentemente.80% das pessoas são homens. A probabilidade de um aluno fluente na língua inglesa, selecionado ao acaso, ser homem é?\n"
      ],
      "metadata": {
        "id": "o9Imex7W8JE0"
      }
    },
    {
      "cell_type": "code",
      "source": [
        "#Primeira maneira (Utilizando a fórmula tradicional)\n",
        "PA=0.8\n",
        "PAC=0.2\n",
        "#----\n",
        "PBdadoA=0.4\n",
        "PBCdadoA=0.6\n",
        "#----\n",
        "PBdadoAC=0.2\n",
        "PBCdadoAC=0.8\n",
        "\n",
        "#Queremos saber PAdadoB\n",
        "\n",
        "#Denominador(Lei da probabilidade total)\n",
        "PB=PA*PBdadoA+PAC*PBdadoAC\n",
        "PB\n",
        "\n",
        "#Numerador( Uma parte do denominador)\n",
        "PAinterB=PA*PBdadoA\n",
        "\n",
        "bayes=PAinterB/PB\n",
        "bayes"
      ],
      "metadata": {
        "id": "9IOC3Pr57HWs",
        "colab": {
          "base_uri": "https://localhost:8080/",
          "height": 52
        },
        "outputId": "8794e29d-e96d-4396-bb07-d5e0beb8a979"
      },
      "execution_count": null,
      "outputs": [
        {
          "output_type": "display_data",
          "data": {
            "text/html": [
              "0.36"
            ],
            "text/markdown": "0.36",
            "text/latex": "0.36",
            "text/plain": [
              "[1] 0.36"
            ]
          },
          "metadata": {}
        },
        {
          "output_type": "display_data",
          "data": {
            "text/html": [
              "0.888888888888889"
            ],
            "text/markdown": "0.888888888888889",
            "text/latex": "0.888888888888889",
            "text/plain": [
              "[1] 0.8888889"
            ]
          },
          "metadata": {}
        }
      ]
    },
    {
      "cell_type": "code",
      "source": [
        "#Segunda maneira (Utilizando o diagrama de árvores)\n",
        "\n",
        "PAinterB = 0.8 * 0.4\n",
        "PACinterB = 0.2 * 0.2\n",
        "PB = PAinterB + PACinterB\n",
        "PB\n",
        "\n",
        "bayes = PAinterB/PB\n",
        "bayes"
      ],
      "metadata": {
        "id": "I7SaUGBL8QDx",
        "colab": {
          "base_uri": "https://localhost:8080/",
          "height": 52
        },
        "outputId": "5bbb35ec-4bb1-478b-e39d-91f3c8da0fef"
      },
      "execution_count": null,
      "outputs": [
        {
          "output_type": "display_data",
          "data": {
            "text/html": [
              "0.36"
            ],
            "text/markdown": "0.36",
            "text/latex": "0.36",
            "text/plain": [
              "[1] 0.36"
            ]
          },
          "metadata": {}
        },
        {
          "output_type": "display_data",
          "data": {
            "text/html": [
              "0.888888888888889"
            ],
            "text/markdown": "0.888888888888889",
            "text/latex": "0.888888888888889",
            "text/plain": [
              "[1] 0.8888889"
            ]
          },
          "metadata": {}
        }
      ]
    }
  ]
}